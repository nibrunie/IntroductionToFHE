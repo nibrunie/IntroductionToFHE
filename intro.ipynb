{
 "cells": [
  {
   "cell_type": "markdown",
   "metadata": {},
   "source": [
    "# Introduction to Fully Homomorphic Encryption\n"
   ]
  },
  {
   "cell_type": "markdown",
   "metadata": {},
   "source": [
    "FHE (Fully Homomorphic Encryption)"
   ]
  },
  {
   "cell_type": "code",
   "execution_count": 1,
   "metadata": {},
   "outputs": [
    {
     "name": "stdout",
     "output_type": "stream",
     "text": [
      "\n",
      "Welcome to Nemo version 0.6.3\n",
      "\n",
      "Nemo comes with absolutely no warranty whatsoever\n",
      "\n"
     ]
    }
   ],
   "source": [
    "using Nemo"
   ]
  },
  {
   "cell_type": "code",
   "execution_count": 2,
   "metadata": {},
   "outputs": [
    {
     "data": {
      "text/plain": [
       "16"
      ]
     },
     "execution_count": 2,
     "metadata": {},
     "output_type": "execute_result"
    }
   ],
   "source": [
    "N = 16 # Polynomial size"
   ]
  },
  {
   "cell_type": "markdown",
   "metadata": {},
   "source": [
    "## Utlity functions\n",
    "Conversion functions between vectors and polynomials: "
   ]
  },
  {
   "cell_type": "code",
   "execution_count": 3,
   "metadata": {},
   "outputs": [
    {
     "data": {
      "text/plain": [
       "poly2vector (generic function with 1 method)"
      ]
     },
     "execution_count": 3,
     "metadata": {},
     "output_type": "execute_result"
    }
   ],
   "source": [
    "function vector2poly(vector, freevar)\n",
    "    acc = 0\n",
    "    for (index, value) in enumerate(vector)\n",
    "        acc = acc + freevar ^(index -1) * value\n",
    "    end\n",
    "    return acc\n",
    "end\n",
    "\n",
    "function poly2vector(poly)\n",
    "    size = Nemo.degree(poly) + 1\n",
    "    result = zeros(base_ring(poly), size)\n",
    "    for i in 0:1:size-1\n",
    "        result[i+1] = Nemo.coeff(poly, i)\n",
    "    end\n",
    "    return result\n",
    "end"
   ]
  },
  {
   "cell_type": "code",
   "execution_count": 4,
   "metadata": {},
   "outputs": [
    {
     "data": {
      "text/plain": [
       "random_poly"
      ]
     },
     "execution_count": 4,
     "metadata": {},
     "output_type": "execute_result"
    }
   ],
   "source": [
    "\"\"\" Random polynomial generation in S \"\"\"\n",
    "function random_poly(freevar, degree::Int, coeff_space)\n",
    "    acc = 0\n",
    "    for i in 0:1:degree\n",
    "        acc = acc + rand(coeff_space) * freevar^i\n",
    "    end\n",
    "    return acc\n",
    "end"
   ]
  },
  {
   "cell_type": "markdown",
   "metadata": {},
   "source": [
    "An FHE Cipher is a random vector and a scalar value"
   ]
  },
  {
   "cell_type": "code",
   "execution_count": 5,
   "metadata": {},
   "outputs": [],
   "source": [
    "type FHECipher\n",
    "    a\n",
    "    b\n",
    "end"
   ]
  },
  {
   "cell_type": "code",
   "execution_count": 6,
   "metadata": {},
   "outputs": [
    {
     "data": {
      "text/plain": [
       "fhe_add (generic function with 1 method)"
      ]
     },
     "execution_count": 6,
     "metadata": {},
     "output_type": "execute_result"
    }
   ],
   "source": [
    "\"\"\" Learning with error \"\"\"\n",
    "function fhe_encode(msg, key)\n",
    "    a = mod.(rand(N), 0.3)\n",
    "    b = msg + key'a\n",
    "    return FHECipher(a, b)\n",
    "end\n",
    "function fhe_decode(ciphertext::FHECipher, key)\n",
    "    phase = ciphertext.a'key\n",
    "    return mod.(ciphertext.b - phase, 1.0)\n",
    "end\n",
    "function fhe_add(c1::FHECipher, c2::FHECipher)\n",
    "    b = mod.(c1.b + c2.b, 1.0)\n",
    "    a = mod.(c1.a + c2.a, 1.0)\n",
    "    return FHECipher(a, b)\n",
    "end"
   ]
  },
  {
   "cell_type": "code",
   "execution_count": 7,
   "metadata": {},
   "outputs": [
    {
     "name": "stdout",
     "output_type": "stream",
     "text": [
      "decode(c0 + c1) 0.40000000000000036\n"
     ]
    }
   ],
   "source": [
    "msg0 = 0.1\n",
    "msg1 = 0.3\n",
    "key = rand(N)\n",
    "\n",
    "c0 = fhe_encode(msg0, key)\n",
    "p0  = fhe_decode(c0, key)\n",
    "\n",
    "c1 = fhe_encode(msg1, key)\n",
    "p1  = fhe_decode(c1, key)\n",
    "\n",
    "println(\"decode(c0 + c1) $(fhe_decode(fhe_add(c0, c1), key))\")"
   ]
  },
  {
   "cell_type": "markdown",
   "metadata": {},
   "source": [
    "## Ring Learning With Error\n",
    "\n",
    "Ring Learning With Error (RLWE) bases homomorphic encryption on a polynomial Ring.\n"
   ]
  },
  {
   "cell_type": "code",
   "execution_count": 8,
   "metadata": {},
   "outputs": [
    {
     "data": {
      "text/plain": [
       "init_RLWE_system (generic function with 1 method)"
      ]
     },
     "execution_count": 8,
     "metadata": {},
     "output_type": "execute_result"
    }
   ],
   "source": [
    "type RLWESystem\n",
    "    LARGE_PRIME::Nemo.fmpz\n",
    "    N::Int64\n",
    "    R\n",
    "    z\n",
    "    MOD_POLY\n",
    "end\n",
    "\n",
    "type RLWECiphertext\n",
    "    A\n",
    "end\n",
    "\n",
    "function init_RLWE_system(LARGE_PRIME::Nemo.fmpz, N::Int64)\n",
    "    R, z = PolynomialRing(ResidueRing(ZZ, LARGE_PRIME), \"z\")\n",
    "    MOD_POLY = z^N+1    \n",
    "    return RLWESystem(LARGE_PRIME, N, R, z, MOD_POLY)\n",
    "end"
   ]
  },
  {
   "cell_type": "code",
   "execution_count": 9,
   "metadata": {},
   "outputs": [
    {
     "name": "stderr",
     "output_type": "stream",
     "text": [
      "\u001b[1m\u001b[33mWARNING: \u001b[39m\u001b[22m\u001b[33m`x $ y` is deprecated.  use `xor(x, y)` or `x ⊻ y` instead.\u001b[39m\n",
      "Stacktrace:\n",
      " [1] \u001b[1mdepwarn\u001b[22m\u001b[22m\u001b[1m(\u001b[22m\u001b[22m::String, ::Symbol\u001b[1m)\u001b[22m\u001b[22m at \u001b[1m./deprecated.jl:70\u001b[22m\u001b[22m\n",
      " [2] \u001b[1m$\u001b[22m\u001b[22m at \u001b[1m./deprecated.jl:385\u001b[22m\u001b[22m [inlined]\n",
      " [3] \u001b[1m_hash_integer\u001b[22m\u001b[22m\u001b[1m(\u001b[22m\u001b[22m::Int64, ::UInt64\u001b[1m)\u001b[22m\u001b[22m at \u001b[1m/home/nicolas/.julia/v0.6/Nemo/src/flint/fmpz.jl:117\u001b[22m\u001b[22m\n",
      " [4] \u001b[1mhash\u001b[22m\u001b[22m at \u001b[1m./tuple.jl:295\u001b[22m\u001b[22m [inlined]\n",
      " [5] \u001b[1mhash\u001b[22m\u001b[22m at \u001b[1m./hashing.jl:5\u001b[22m\u001b[22m [inlined]\n",
      " [6] \u001b[1mhashindex\u001b[22m\u001b[22m\u001b[1m(\u001b[22m\u001b[22m::Tuple{Nemo.FlintIntegerRing,Nemo.fmpz}, ::Int64\u001b[1m)\u001b[22m\u001b[22m at \u001b[1m./dict.jl:210\u001b[22m\u001b[22m\n",
      " [7] \u001b[1mht_keyindex\u001b[22m\u001b[22m\u001b[1m(\u001b[22m\u001b[22m::Dict{Tuple{Nemo.Ring,Nemo.RingElem},Nemo.Ring}, ::Tuple{Nemo.FlintIntegerRing,Nemo.fmpz}\u001b[1m)\u001b[22m\u001b[22m at \u001b[1m./dict.jl:322\u001b[22m\u001b[22m\n",
      " [8] \u001b[1mhaskey\u001b[22m\u001b[22m at \u001b[1m./dict.jl:505\u001b[22m\u001b[22m [inlined]\n",
      " [9] \u001b[1mNemo.GenResRing{Nemo.fmpz}\u001b[22m\u001b[22m\u001b[1m(\u001b[22m\u001b[22m::Nemo.fmpz, ::Bool\u001b[1m)\u001b[22m\u001b[22m at \u001b[1m/home/nicolas/.julia/v0.6/Nemo/src/generic/GenericTypes.jl:153\u001b[22m\u001b[22m\n",
      " [10] \u001b[1m#ResidueRing#42\u001b[22m\u001b[22m\u001b[1m(\u001b[22m\u001b[22m::Bool, ::Function, ::Nemo.FlintIntegerRing, ::Nemo.fmpz\u001b[1m)\u001b[22m\u001b[22m at \u001b[1m/home/nicolas/.julia/v0.6/Nemo/src/generic/Residue.jl:597\u001b[22m\u001b[22m\n",
      " [11] \u001b[1mResidueRing\u001b[22m\u001b[22m\u001b[1m(\u001b[22m\u001b[22m::Nemo.FlintIntegerRing, ::Nemo.fmpz\u001b[1m)\u001b[22m\u001b[22m at \u001b[1m/home/nicolas/.julia/v0.6/Nemo/src/generic/Residue.jl:594\u001b[22m\u001b[22m\n",
      " [12] \u001b[1minit_RLWE_system\u001b[22m\u001b[22m\u001b[1m(\u001b[22m\u001b[22m::Nemo.fmpz, ::Int64\u001b[1m)\u001b[22m\u001b[22m at \u001b[1m./In[8]:14\u001b[22m\u001b[22m\n",
      " [13] \u001b[1minclude_string\u001b[22m\u001b[22m\u001b[1m(\u001b[22m\u001b[22m::String, ::String\u001b[1m)\u001b[22m\u001b[22m at \u001b[1m./loading.jl:522\u001b[22m\u001b[22m\n",
      " [14] \u001b[1minclude_string\u001b[22m\u001b[22m\u001b[1m(\u001b[22m\u001b[22m::Module, ::String, ::String\u001b[1m)\u001b[22m\u001b[22m at \u001b[1m/home/nicolas/.julia/v0.6/Compat/src/Compat.jl:464\u001b[22m\u001b[22m\n",
      " [15] \u001b[1mexecute_request\u001b[22m\u001b[22m\u001b[1m(\u001b[22m\u001b[22m::ZMQ.Socket, ::IJulia.Msg\u001b[1m)\u001b[22m\u001b[22m at \u001b[1m/home/nicolas/.julia/v0.6/IJulia/src/execute_request.jl:154\u001b[22m\u001b[22m\n",
      " [16] \u001b[1meventloop\u001b[22m\u001b[22m\u001b[1m(\u001b[22m\u001b[22m::ZMQ.Socket\u001b[1m)\u001b[22m\u001b[22m at \u001b[1m/home/nicolas/.julia/v0.6/IJulia/src/eventloop.jl:8\u001b[22m\u001b[22m\n",
      " [17] \u001b[1m(::IJulia.##14#17)\u001b[22m\u001b[22m\u001b[1m(\u001b[22m\u001b[22m\u001b[1m)\u001b[22m\u001b[22m at \u001b[1m./task.jl:335\u001b[22m\u001b[22m\n",
      "while loading In[9], in expression starting on line 1\n",
      "\u001b[1m\u001b[33mWARNING: \u001b[39m\u001b[22m\u001b[33m`x $ y` is deprecated.  use `xor(x, y)` or `x ⊻ y` instead.\u001b[39m\n",
      "Stacktrace:\n",
      " [1] \u001b[1mdepwarn\u001b[22m\u001b[22m\u001b[1m(\u001b[22m\u001b[22m::String, ::Symbol\u001b[1m)\u001b[22m\u001b[22m at \u001b[1m./deprecated.jl:70\u001b[22m\u001b[22m\n",
      " [2] \u001b[1m$\u001b[22m\u001b[22m at \u001b[1m./deprecated.jl:385\u001b[22m\u001b[22m [inlined]\n",
      " [3] \u001b[1m_hash_integer\u001b[22m\u001b[22m\u001b[1m(\u001b[22m\u001b[22m::Int64, ::UInt64\u001b[1m)\u001b[22m\u001b[22m at \u001b[1m/home/nicolas/.julia/v0.6/Nemo/src/flint/fmpz.jl:119\u001b[22m\u001b[22m\n",
      " [4] \u001b[1mhash\u001b[22m\u001b[22m at \u001b[1m./tuple.jl:295\u001b[22m\u001b[22m [inlined]\n",
      " [5] \u001b[1mhash\u001b[22m\u001b[22m at \u001b[1m./hashing.jl:5\u001b[22m\u001b[22m [inlined]\n",
      " [6] \u001b[1mhashindex\u001b[22m\u001b[22m\u001b[1m(\u001b[22m\u001b[22m::Tuple{Nemo.FlintIntegerRing,Nemo.fmpz}, ::Int64\u001b[1m)\u001b[22m\u001b[22m at \u001b[1m./dict.jl:210\u001b[22m\u001b[22m\n",
      " [7] \u001b[1mht_keyindex\u001b[22m\u001b[22m\u001b[1m(\u001b[22m\u001b[22m::Dict{Tuple{Nemo.Ring,Nemo.RingElem},Nemo.Ring}, ::Tuple{Nemo.FlintIntegerRing,Nemo.fmpz}\u001b[1m)\u001b[22m\u001b[22m at \u001b[1m./dict.jl:322\u001b[22m\u001b[22m\n",
      " [8] \u001b[1mhaskey\u001b[22m\u001b[22m at \u001b[1m./dict.jl:505\u001b[22m\u001b[22m [inlined]\n",
      " [9] \u001b[1mNemo.GenResRing{Nemo.fmpz}\u001b[22m\u001b[22m\u001b[1m(\u001b[22m\u001b[22m::Nemo.fmpz, ::Bool\u001b[1m)\u001b[22m\u001b[22m at \u001b[1m/home/nicolas/.julia/v0.6/Nemo/src/generic/GenericTypes.jl:153\u001b[22m\u001b[22m\n",
      " [10] \u001b[1m#ResidueRing#42\u001b[22m\u001b[22m\u001b[1m(\u001b[22m\u001b[22m::Bool, ::Function, ::Nemo.FlintIntegerRing, ::Nemo.fmpz\u001b[1m)\u001b[22m\u001b[22m at \u001b[1m/home/nicolas/.julia/v0.6/Nemo/src/generic/Residue.jl:597\u001b[22m\u001b[22m\n",
      " [11] \u001b[1mResidueRing\u001b[22m\u001b[22m\u001b[1m(\u001b[22m\u001b[22m::Nemo.FlintIntegerRing, ::Nemo.fmpz\u001b[1m)\u001b[22m\u001b[22m at \u001b[1m/home/nicolas/.julia/v0.6/Nemo/src/generic/Residue.jl:594\u001b[22m\u001b[22m\n",
      " [12] \u001b[1minit_RLWE_system\u001b[22m\u001b[22m\u001b[1m(\u001b[22m\u001b[22m::Nemo.fmpz, ::Int64\u001b[1m)\u001b[22m\u001b[22m at \u001b[1m./In[8]:14\u001b[22m\u001b[22m\n",
      " [13] \u001b[1minclude_string\u001b[22m\u001b[22m\u001b[1m(\u001b[22m\u001b[22m::String, ::String\u001b[1m)\u001b[22m\u001b[22m at \u001b[1m./loading.jl:522\u001b[22m\u001b[22m\n",
      " [14] \u001b[1minclude_string\u001b[22m\u001b[22m\u001b[1m(\u001b[22m\u001b[22m::Module, ::String, ::String\u001b[1m)\u001b[22m\u001b[22m at \u001b[1m/home/nicolas/.julia/v0.6/Compat/src/Compat.jl:464\u001b[22m\u001b[22m\n",
      " [15] \u001b[1mexecute_request\u001b[22m\u001b[22m\u001b[1m(\u001b[22m\u001b[22m::ZMQ.Socket, ::IJulia.Msg\u001b[1m)\u001b[22m\u001b[22m at \u001b[1m/home/nicolas/.julia/v0.6/IJulia/src/execute_request.jl:154\u001b[22m\u001b[22m\n",
      " [16] \u001b[1meventloop\u001b[22m\u001b[22m\u001b[1m(\u001b[22m\u001b[22m::ZMQ.Socket\u001b[1m)\u001b[22m\u001b[22m at \u001b[1m/home/nicolas/.julia/v0.6/IJulia/src/eventloop.jl:8\u001b[22m\u001b[22m\n",
      " [17] \u001b[1m(::IJulia.##14#17)\u001b[22m\u001b[22m\u001b[1m(\u001b[22m\u001b[22m\u001b[1m)\u001b[22m\u001b[22m at \u001b[1m./task.jl:335\u001b[22m\u001b[22m\n",
      "while loading In[9], in expression starting on line 1\n"
     ]
    },
    {
     "data": {
      "text/plain": [
       "RLWESystem(22953686867719691230002707821868552601124472329079, 4, Univariate Polynomial Ring in z over Residue ring of Integer Ring modulo 22953686867719691230002707821868552601124472329079, z, z^4+1)"
      ]
     },
     "execution_count": 9,
     "metadata": {},
     "output_type": "execute_result"
    }
   ],
   "source": [
    "toy_system = init_RLWE_system(\n",
    "    ZZ(22953686867719691230002707821868552601124472329079),\n",
    "    4\n",
    ")\n",
    "\n",
    "# LARGE_PRIME = ZZ(22953686867719691230002707821868552601124472329079) # 32416190071\n",
    "# N = 4"
   ]
  },
  {
   "cell_type": "code",
   "execution_count": 10,
   "metadata": {},
   "outputs": [
    {
     "data": {
      "text/plain": [
       "poly_mod_coeff (generic function with 1 method)"
      ]
     },
     "execution_count": 10,
     "metadata": {},
     "output_type": "execute_result"
    }
   ],
   "source": [
    "function poly_mod_coeff(ctx, poly, modulo) #, freevar)\n",
    "    result = 0\n",
    "    size = Nemo.degree(poly)\n",
    "    ROUND_BOUND = ctx.LARGE_PRIME >> 1\n",
    "    for i in 0:1:size\n",
    "        coeff = Nemo.coeff(poly, i).data\n",
    "        # if the coeffs exceeds a certain bound it must be considered as\n",
    "        # negative and its parity inversed\n",
    "        if coeff > ROUND_BOUND\n",
    "            coeff = 1 - (coeff % modulo)\n",
    "        else\n",
    "            coeff = coeff % modulo\n",
    "        end\n",
    "        result = result + ctx.z^i * coeff\n",
    "    end\n",
    "    return result\n",
    "end"
   ]
  },
  {
   "cell_type": "code",
   "execution_count": 11,
   "metadata": {},
   "outputs": [
    {
     "name": "stdout",
     "output_type": "stream",
     "text": [
      "  0.031957 seconds (5.61 k allocations: 310.315 KiB)\n"
     ]
    }
   ],
   "source": [
    "@time key = random_poly(toy_system.z, toy_system.N-1, Int64);"
   ]
  },
  {
   "cell_type": "code",
   "execution_count": 12,
   "metadata": {},
   "outputs": [
    {
     "data": {
      "text/plain": [
       "z+1"
      ]
     },
     "execution_count": 12,
     "metadata": {},
     "output_type": "execute_result"
    }
   ],
   "source": [
    "msg = vector2poly(mod.(rand(Int64, toy_system.N), 2), toy_system.z)"
   ]
  },
  {
   "cell_type": "markdown",
   "metadata": {},
   "source": [
    "## Encoding / Decoding"
   ]
  },
  {
   "cell_type": "code",
   "execution_count": 13,
   "metadata": {},
   "outputs": [
    {
     "data": {
      "text/plain": [
       "rlwe_decode (generic function with 1 method)"
      ]
     },
     "execution_count": 13,
     "metadata": {},
     "output_type": "execute_result"
    }
   ],
   "source": [
    "function rlwe_encode(ctx, msg, key, err_bound)\n",
    "    # random encoding polynomial\n",
    "    a = random_poly(ctx.z, N-1, Int32)\n",
    "    # random error\n",
    "    err = vector2poly(mod.(rand(Int64, ctx.N), err_bound), ctx.z)\n",
    "    # encrypted message\n",
    "    b = 2 * err + mulmod(a , key, ctx.MOD_POLY) + msg\n",
    "    return [b, -a]\n",
    "end\n",
    "\n",
    "function rlwe_decode(ctx, ciphertext, key)\n",
    "    b, a = ciphertext\n",
    "    phase = mulmod(a, key, ctx. MOD_POLY)\n",
    "    reduct = b + phase\n",
    "    msg = poly_mod_coeff(ctx, reduct, 2) \n",
    "    return msg\n",
    "end"
   ]
  },
  {
   "cell_type": "code",
   "execution_count": 14,
   "metadata": {},
   "outputs": [
    {
     "name": "stdout",
     "output_type": "stream",
     "text": [
      "  0.130658 seconds (122.23 k allocations: 6.425 MiB, 4.66% gc time)\n"
     ]
    }
   ],
   "source": [
    "@time ciphertext = rlwe_encode(toy_system, msg, key, 1024);"
   ]
  },
  {
   "cell_type": "code",
   "execution_count": 15,
   "metadata": {},
   "outputs": [
    {
     "name": "stdout",
     "output_type": "stream",
     "text": [
      "  0.041893 seconds (26.60 k allocations: 1.398 MiB)\n"
     ]
    }
   ],
   "source": [
    "@time decoded_pt = rlwe_decode(toy_system, ciphertext, key);\n"
   ]
  },
  {
   "cell_type": "code",
   "execution_count": 16,
   "metadata": {},
   "outputs": [
    {
     "data": {
      "text/plain": [
       "(z+1, z+1, true)"
      ]
     },
     "execution_count": 16,
     "metadata": {},
     "output_type": "execute_result"
    }
   ],
   "source": [
    "msg, decoded_pt, msg == decoded_pt"
   ]
  },
  {
   "cell_type": "markdown",
   "metadata": {},
   "source": [
    "### Homomorphic Operation: Addition"
   ]
  },
  {
   "cell_type": "code",
   "execution_count": 17,
   "metadata": {},
   "outputs": [
    {
     "data": {
      "text/plain": [
       "rlwe_add"
      ]
     },
     "execution_count": 17,
     "metadata": {},
     "output_type": "execute_result"
    }
   ],
   "source": [
    "\"\"\" Homomorphic addition of RLWE encoded ciphertext \"\"\"\n",
    "function rlwe_add(c1, c2)\n",
    "    b1, a1 = c1\n",
    "    b2, a2 = c2\n",
    "    return [(b1 +b2), (a1 + a2)]\n",
    "end"
   ]
  },
  {
   "cell_type": "code",
   "execution_count": 18,
   "metadata": {},
   "outputs": [
    {
     "name": "stdout",
     "output_type": "stream",
     "text": [
      "  0.014994 seconds (5.58 k allocations: 270.626 KiB)\n"
     ]
    },
    {
     "data": {
      "text/plain": [
       "z^2+z+1"
      ]
     },
     "execution_count": 18,
     "metadata": {},
     "output_type": "execute_result"
    }
   ],
   "source": [
    "@time rlwe_decode(\n",
    "    toy_system,\n",
    "    rlwe_add(\n",
    "        rlwe_encode(toy_system, toy_system.z+1, key, 128),\n",
    "        rlwe_encode(toy_system, toy_system.z^2, key, 128)\n",
    "    ),\n",
    "    key\n",
    ")"
   ]
  },
  {
   "cell_type": "markdown",
   "metadata": {},
   "source": [
    "## Homomorphic Operation: Multiplication\n",
    "\n",
    "$ b_0 = \\mu_0 + 2 \\times err_0 + a_0 \\times k $ \n",
    "\n",
    "$ b_1 = \\mu_1 + 2 \\times err_1 + a_1 \\times k $ \n",
    "\n",
    "$ b_0 \\times b_1 = \\mu_0 \\times \\mu_1 + 2 \\times (\\mu_0 . err_1 + ...) + \\mu_1 \\times a_0 \\times k + \\mu_0 \\times a_1 \\times k + a_1 \\times a_0 \\times k^2  $ \n",
    "\n",
    "$ b_0 \\times b_1 - (a_1 \\times b_0 + a_0 \\times b_1) \\times k + a_0 \\times a_1 \\times k^2 \\equiv \\mu_0 \\times \\mu_1 \\pmod 2 $ "
   ]
  },
  {
   "cell_type": "code",
   "execution_count": 19,
   "metadata": {},
   "outputs": [
    {
     "data": {
      "text/plain": [
       "rlwe_mul_decode (generic function with 1 method)"
      ]
     },
     "execution_count": 19,
     "metadata": {},
     "output_type": "execute_result"
    }
   ],
   "source": [
    "function rlwe_mul(ctx, c1, c2)\n",
    "    b1, a1 = c1\n",
    "    b2, a2 = c2\n",
    "    return  [mulmod(b1, b2, ctx.MOD_POLY), (mulmod(a1, b2, ctx.MOD_POLY) + mulmod(a2, b1, ctx.MOD_POLY)), mulmod(a1, a2, ctx.MOD_POLY)]\n",
    "end\n",
    "\n",
    "function rlwe_mul_decode(ctx, c1, key)\n",
    "    b, a1, a2 = c1\n",
    "    k2 = mulmod(key, key, ctx.MOD_POLY)\n",
    "    a2k2 = mulmod(a2, k2, ctx.MOD_POLY)\n",
    "    a1k = mulmod(a1, key, ctx.MOD_POLY)\n",
    "    result = b + a1k + a2k2\n",
    "    return poly_mod_coeff(ctx, result, 2)\n",
    "end"
   ]
  },
  {
   "cell_type": "code",
   "execution_count": 20,
   "metadata": {},
   "outputs": [
    {
     "data": {
      "text/plain": [
       "(z^2, z+1, z^3+z^2)"
      ]
     },
     "execution_count": 20,
     "metadata": {},
     "output_type": "execute_result"
    }
   ],
   "source": [
    "z = toy_system.z\n",
    "z_ct = rlwe_encode(toy_system, z^2, key, 128)\n",
    "z_ct2 = rlwe_encode(toy_system, z+1, key, 128)\n",
    "z2_mul = rlwe_mul(toy_system, z_ct, z_ct2)\n",
    "z_dec = rlwe_decode(toy_system, z_ct, key)\n",
    "z_dec2 = rlwe_decode(toy_system, z_ct2, key)\n",
    "z2_dec = rlwe_mul_decode(toy_system, z2_mul, key)\n",
    "z_dec, z_dec2, z2_dec # z2_mul, z_dec, z2_dec"
   ]
  },
  {
   "cell_type": "markdown",
   "metadata": {},
   "source": [
    "Each multiplication add an extra term to the ciphertext. Those leading to a new form of ciphertext: a vector of polynomial.\n",
    "Addition is performed through element wise vector addition.\n",
    "Decoding is performed by evaluation the vector as a polynomial with respect to the key variable.\n",
    "Multiplication requires some extra works:\n",
    "\n",
    "$b_0, a_0, c_0 \\times (b_1, a_1) $\n",
    "\n",
    "$b_0 = \\mu_0 - a_0 \\times k - c_0 \\times k ^2  + 2 . \\epsilon $\n",
    "\n",
    "$b_1 = \\mu_1 - a_1 \\times k + 2 . \\epsilon' $\n",
    "\n",
    "$b_0 \\times b_1 = \\mu_0 \\times \\mu_1 - k \\times (a_0 . \\mu_1 + a_1 \\times \\mu_0) - k^2 (c_0 \\times \\mu_1 - a_0 \\times a_1) + (...) $\n",
    "\n"
   ]
  },
  {
   "cell_type": "code",
   "execution_count": 21,
   "metadata": {},
   "outputs": [
    {
     "data": {
      "text/plain": [
       "rlwe_gen_add (generic function with 1 method)"
      ]
     },
     "execution_count": 21,
     "metadata": {},
     "output_type": "execute_result"
    }
   ],
   "source": [
    "function complement!(vector, n, elt)\n",
    "   append!(vector, [elt for i in 1:1:n])\n",
    "end\n",
    "function rlwe_gen_add(ctx, c0, c1)\n",
    "    s0 = size(c0, 1)\n",
    "    s1 = size(c1, 1)\n",
    "    common_size = max(s0, s1)\n",
    "    c0 = copy(c0)\n",
    "    c1 = copy(c1)\n",
    "    complement!(c0, common_size - s0, ctx.R(0))\n",
    "    complement!(c1, common_size - s1, ctx.R(0))\n",
    "   if size(c0, 1) == size(c1, 1)\n",
    "       return [v0 + v1 for (v0, v1) in zip(c0, c1)]\n",
    "    else\n",
    "        println(\"size $(size(c0)), $(size(c1))\")\n",
    "        throw(ArgumentError(\"size mismatch\"))\n",
    "    end\n",
    "end"
   ]
  },
  {
   "cell_type": "code",
   "execution_count": 22,
   "metadata": {},
   "outputs": [
    {
     "data": {
      "text/plain": [
       "rlwe_gen_decode (generic function with 1 method)"
      ]
     },
     "execution_count": 22,
     "metadata": {},
     "output_type": "execute_result"
    }
   ],
   "source": [
    "function rlwe_gen_decode(ctx, c, key)\n",
    "   return poly_mod_coeff(\n",
    "        ctx,\n",
    "        reduce(+, 0, [\n",
    "            mulmod(\n",
    "                value, \n",
    "                powmod(key, index - 1, ctx.MOD_POLY),\n",
    "                ctx.MOD_POLY\n",
    "            ) for (index, value) in enumerate(c)\n",
    "            ]),\n",
    "        2\n",
    "    )\n",
    "end"
   ]
  },
  {
   "cell_type": "code",
   "execution_count": 23,
   "metadata": {},
   "outputs": [
    {
     "data": {
      "text/plain": [
       "z^3+z^2"
      ]
     },
     "execution_count": 23,
     "metadata": {},
     "output_type": "execute_result"
    }
   ],
   "source": [
    "rlwe_gen_decode(toy_system, z2_mul, key)"
   ]
  },
  {
   "cell_type": "code",
   "execution_count": 24,
   "metadata": {},
   "outputs": [
    {
     "data": {
      "text/plain": [
       "z^3+z^2+z+1"
      ]
     },
     "execution_count": 24,
     "metadata": {},
     "output_type": "execute_result"
    }
   ],
   "source": [
    "rlwe_gen_decode(toy_system, rlwe_gen_add(toy_system, z2_mul, z_ct2), key)"
   ]
  },
  {
   "cell_type": "code",
   "execution_count": 25,
   "metadata": {},
   "outputs": [
    {
     "data": {
      "text/plain": [
       "rlwe_gen_mul"
      ]
     },
     "execution_count": 25,
     "metadata": {},
     "output_type": "execute_result"
    }
   ],
   "source": [
    "\"\"\" Generic multiplication of arbitrary size ciphertext \"\"\"\n",
    "function rlwe_gen_mul(ctx, c0, c1)\n",
    "    s0 = size(c0, 1)\n",
    "    s1 = size(c1, 1)\n",
    "    # computing degree + of c0 x c1\n",
    "    r_size = (s0 - 1) + (s1 - 1) + 1\n",
    "    result = [ctx.R(0) for i in 1:1:r_size]\n",
    "    for (i0, v0) in enumerate(c0)\n",
    "        for (i1, v1) in enumerate(c1)\n",
    "            result[i0 + i1 - 1] = result[i0 + i1 - 1] + mulmod(v0, v1, ctx.MOD_POLY)\n",
    "        end\n",
    "    end\n",
    "    return result\n",
    "end"
   ]
  },
  {
   "cell_type": "code",
   "execution_count": 26,
   "metadata": {},
   "outputs": [
    {
     "data": {
      "text/plain": [
       "z^2+1"
      ]
     },
     "execution_count": 26,
     "metadata": {},
     "output_type": "execute_result"
    }
   ],
   "source": [
    "z3_mul = rlwe_gen_mul(toy_system, z2_mul, z_ct2)\n",
    "z3_dec = rlwe_gen_decode(toy_system, z3_mul, key)"
   ]
  },
  {
   "cell_type": "code",
   "execution_count": null,
   "metadata": {},
   "outputs": [],
   "source": [
    "type RLWEPublicContext\n",
    "    ctx::RLWESystem\n",
    "    ONE\n",
    "    ZERO\n",
    "    ERROR_BOUND\n",
    "end"
   ]
  },
  {
   "cell_type": "code",
   "execution_count": 44,
   "metadata": {},
   "outputs": [
    {
     "data": {
      "text/plain": [
       "rlwe_bit_OR (generic function with 1 method)"
      ]
     },
     "execution_count": 44,
     "metadata": {},
     "output_type": "execute_result"
    }
   ],
   "source": [
    "function rlwe_encode_bit(pctx, bit, key)\n",
    "    return rlwe_encode(pctx.ctx, pctx.ctx.R(bit), key, pctx.ERROR_BOUND)\n",
    "end\n",
    "function rlwe_decode_bit(pctx, ciphertext, key)\n",
    "    poly = rlwe_gen_decode(pctx.ctx, ciphertext, key)\n",
    "    return poly\n",
    "end\n",
    "function rlwe_bit_XOR(pctx, c0, c1)\n",
    "    return rlwe_gen_add(pctx.ctx, c0, c1)\n",
    "end\n",
    "function rlwe_bit_NOT(pctx, c0)\n",
    "    return rlwe_bit_XOR(pctx, c0, pctx.ONE)\n",
    "end\n",
    "function rlwe_bit_AND(pctx, c0, c1)\n",
    "    return rlwe_gen_mul(pctx.ctx, c0, c1)\n",
    "end\n",
    "function rlwe_bit_OR(pctx, c0, c1)\n",
    "   # c0 OR c1 = NOT(NOT(c0) AND NOT(c1)) \n",
    "    return rlwe_bit_NOT(pctx, rlwe_bit_AND(pctx, rlwe_bit_NOT(pctx, c0), rlwe_bit_NOT(pctx, c1)))\n",
    "end\n",
    "    "
   ]
  },
  {
   "cell_type": "code",
   "execution_count": 45,
   "metadata": {},
   "outputs": [
    {
     "name": "stdout",
     "output_type": "stream",
     "text": [
      "0 AND 0 = 0\n",
      "0 OR  0 = 0\n",
      "0 XOR 0 = 0\n",
      "0 AND 1 = 0\n",
      "0 OR  1 = 1\n",
      "0 XOR 1 = 1\n",
      "1 AND 0 = 0\n",
      "1 OR  0 = 1\n",
      "1 XOR 0 = 1\n",
      "1 AND 1 = 1\n",
      "1 OR  1 = 1\n",
      "1 XOR 1 = 0\n"
     ]
    }
   ],
   "source": [
    "SKEY = random_poly(toy_system.z, toy_system.N-1, Int64)\n",
    "pctx = RLWEPublicContext(\n",
    "    toy_system,\n",
    "    rlwe_encode(toy_system, toy_system.R(1), SKEY, 128),\n",
    "    rlwe_encode(toy_system, toy_system.R(0), SKEY, 128),\n",
    "    128\n",
    ")\n",
    "    \n",
    "pbits = [0, 1]\n",
    "for b0 in pbits\n",
    "    c0 = rlwe_encode_bit(pctx, b0, SKEY)\n",
    "    for b1 in pbits\n",
    "        c1 = rlwe_encode_bit(pctx, b1, SKEY)\n",
    "        println(\"$b0 AND $b1 = $(rlwe_decode_bit(pctx, rlwe_bit_AND(pctx, c0, c1), SKEY))\")\n",
    "        println(\"$b0 OR  $b1 = $(rlwe_decode_bit(pctx, rlwe_bit_OR(pctx, c0, c1), SKEY))\")\n",
    "        println(\"$b0 XOR $b1 = $(rlwe_decode_bit(pctx, rlwe_bit_XOR(pctx, c0, c1), SKEY))\")\n",
    "    end\n",
    "end\n",
    "        "
   ]
  },
  {
   "cell_type": "markdown",
   "metadata": {},
   "source": [
    "## Boostrapping"
   ]
  },
  {
   "cell_type": "markdown",
   "metadata": {},
   "source": [
    "## Modulo Switching"
   ]
  },
  {
   "cell_type": "markdown",
   "metadata": {},
   "source": []
  },
  {
   "cell_type": "markdown",
   "metadata": {},
   "source": [
    "# Torus Learning with Error (TLWE)\n",
    "## Defining Mathematical objects"
   ]
  },
  {
   "cell_type": "code",
   "execution_count": 29,
   "metadata": {},
   "outputs": [
    {
     "name": "stderr",
     "output_type": "stream",
     "text": [
      "\u001b[1m\u001b[33mWARNING: \u001b[39m\u001b[22m\u001b[33m`x $ y` is deprecated.  use `xor(x, y)` or `x ⊻ y` instead.\u001b[39m\n",
      "Stacktrace:\n",
      " [1] \u001b[1mdepwarn\u001b[22m\u001b[22m\u001b[1m(\u001b[22m\u001b[22m::String, ::Symbol\u001b[1m)\u001b[22m\u001b[22m at \u001b[1m./deprecated.jl:70\u001b[22m\u001b[22m\n",
      " [2] \u001b[1m$\u001b[22m\u001b[22m at \u001b[1m./deprecated.jl:385\u001b[22m\u001b[22m [inlined]\n",
      " [3] \u001b[1mhash\u001b[22m\u001b[22m\u001b[1m(\u001b[22m\u001b[22m::Nemo.arb_poly, ::UInt64\u001b[1m)\u001b[22m\u001b[22m at \u001b[1m/home/nicolas/.julia/v0.6/Nemo/src/generic/Poly.jl:73\u001b[22m\u001b[22m\n",
      " [4] \u001b[1mhash\u001b[22m\u001b[22m at \u001b[1m./tuple.jl:295\u001b[22m\u001b[22m [inlined]\n",
      " [5] \u001b[1mhash\u001b[22m\u001b[22m at \u001b[1m./hashing.jl:5\u001b[22m\u001b[22m [inlined]\n",
      " [6] \u001b[1mhashindex\u001b[22m\u001b[22m\u001b[1m(\u001b[22m\u001b[22m::Tuple{Nemo.ArbPolyRing,Nemo.arb_poly}, ::Int64\u001b[1m)\u001b[22m\u001b[22m at \u001b[1m./dict.jl:210\u001b[22m\u001b[22m\n",
      " [7] \u001b[1mht_keyindex\u001b[22m\u001b[22m\u001b[1m(\u001b[22m\u001b[22m::Dict{Tuple{Nemo.Ring,Nemo.RingElem},Nemo.Ring}, ::Tuple{Nemo.ArbPolyRing,Nemo.arb_poly}\u001b[1m)\u001b[22m\u001b[22m at \u001b[1m./dict.jl:322\u001b[22m\u001b[22m\n",
      " [8] \u001b[1mhaskey\u001b[22m\u001b[22m at \u001b[1m./dict.jl:505\u001b[22m\u001b[22m [inlined]\n",
      " [9] \u001b[1mNemo.GenResRing{Nemo.arb_poly}\u001b[22m\u001b[22m\u001b[1m(\u001b[22m\u001b[22m::Nemo.arb_poly, ::Bool\u001b[1m)\u001b[22m\u001b[22m at \u001b[1m/home/nicolas/.julia/v0.6/Nemo/src/generic/GenericTypes.jl:153\u001b[22m\u001b[22m\n",
      " [10] \u001b[1m#ResidueRing#42\u001b[22m\u001b[22m\u001b[1m(\u001b[22m\u001b[22m::Bool, ::Function, ::Nemo.ArbPolyRing, ::Nemo.arb_poly\u001b[1m)\u001b[22m\u001b[22m at \u001b[1m/home/nicolas/.julia/v0.6/Nemo/src/generic/Residue.jl:597\u001b[22m\u001b[22m\n",
      " [11] \u001b[1mResidueRing\u001b[22m\u001b[22m\u001b[1m(\u001b[22m\u001b[22m::Nemo.ArbPolyRing, ::Nemo.arb_poly\u001b[1m)\u001b[22m\u001b[22m at \u001b[1m/home/nicolas/.julia/v0.6/Nemo/src/generic/Residue.jl:594\u001b[22m\u001b[22m\n",
      " [12] \u001b[1minclude_string\u001b[22m\u001b[22m\u001b[1m(\u001b[22m\u001b[22m::String, ::String\u001b[1m)\u001b[22m\u001b[22m at \u001b[1m./loading.jl:522\u001b[22m\u001b[22m\n",
      " [13] \u001b[1minclude_string\u001b[22m\u001b[22m\u001b[1m(\u001b[22m\u001b[22m::Module, ::String, ::String\u001b[1m)\u001b[22m\u001b[22m at \u001b[1m/home/nicolas/.julia/v0.6/Compat/src/Compat.jl:464\u001b[22m\u001b[22m\n",
      " [14] \u001b[1mexecute_request\u001b[22m\u001b[22m\u001b[1m(\u001b[22m\u001b[22m::ZMQ.Socket, ::IJulia.Msg\u001b[1m)\u001b[22m\u001b[22m at \u001b[1m/home/nicolas/.julia/v0.6/IJulia/src/execute_request.jl:154\u001b[22m\u001b[22m\n",
      " [15] \u001b[1meventloop\u001b[22m\u001b[22m\u001b[1m(\u001b[22m\u001b[22m::ZMQ.Socket\u001b[1m)\u001b[22m\u001b[22m at \u001b[1m/home/nicolas/.julia/v0.6/IJulia/src/eventloop.jl:8\u001b[22m\u001b[22m\n",
      " [16] \u001b[1m(::IJulia.##14#17)\u001b[22m\u001b[22m\u001b[1m(\u001b[22m\u001b[22m\u001b[1m)\u001b[22m\u001b[22m at \u001b[1m./task.jl:335\u001b[22m\u001b[22m\n",
      "while loading In[29], in expression starting on line 3\n"
     ]
    }
   ],
   "source": [
    "S, x = PolynomialRing(RealField(53), \"x\");;\n",
    "\n",
    "T = ResidueRing(S, x^N+1);"
   ]
  },
  {
   "cell_type": "code",
   "execution_count": 30,
   "metadata": {},
   "outputs": [
    {
     "data": {
      "text/plain": [
       "tlwe_encode (generic function with 1 method)"
      ]
     },
     "execution_count": 30,
     "metadata": {},
     "output_type": "execute_result"
    }
   ],
   "source": [
    "function tlwe_gen_key()\n",
    "    return vector2poly(rand(0:1, N))\n",
    "end\n",
    "function tlwe_encode(msg, key)\n",
    "    \n",
    "end"
   ]
  },
  {
   "cell_type": "markdown",
   "metadata": {},
   "source": []
  }
 ],
 "metadata": {
  "kernelspec": {
   "display_name": "Julia 0.6.1",
   "language": "julia",
   "name": "julia-0.6"
  },
  "language_info": {
   "file_extension": ".jl",
   "mimetype": "application/julia",
   "name": "julia",
   "version": "0.6.1"
  }
 },
 "nbformat": 4,
 "nbformat_minor": 2
}
